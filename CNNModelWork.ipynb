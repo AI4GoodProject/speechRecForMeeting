{
  "cells": [
    {
      "cell_type": "markdown",
      "metadata": {
        "colab_type": "text",
        "id": "view-in-github"
      },
      "source": [
        "<a href=\"https://colab.research.google.com/github/AI4GoodProject/speechRecForMeeting/blob/master/CNNModelWork.ipynb\" target=\"_parent\"><img src=\"https://colab.research.google.com/assets/colab-badge.svg\" alt=\"Open In Colab\"/></a>"
      ]
    },
    {
      "cell_type": "code",
      "execution_count": 1,
      "metadata": {
        "id": "J-aURtjMTCBm"
      },
      "outputs": [
        {
          "ename": "ModuleNotFoundError",
          "evalue": "No module named 'torch'",
          "output_type": "error",
          "traceback": [
            "\u001b[0;31m---------------------------------------------------------------------------\u001b[0m",
            "\u001b[0;31mModuleNotFoundError\u001b[0m                       Traceback (most recent call last)",
            "\u001b[0;32m/var/folders/kp/3j1zdbvx3bg_n0mf0td_cyhw0000gn/T/ipykernel_5113/632914372.py\u001b[0m in \u001b[0;36m<module>\u001b[0;34m\u001b[0m\n\u001b[1;32m      1\u001b[0m \u001b[0;32mimport\u001b[0m \u001b[0mnumpy\u001b[0m \u001b[0;32mas\u001b[0m \u001b[0mnp\u001b[0m\u001b[0;34m\u001b[0m\u001b[0;34m\u001b[0m\u001b[0m\n\u001b[0;32m----> 2\u001b[0;31m \u001b[0;32mimport\u001b[0m \u001b[0mtorch\u001b[0m\u001b[0;34m\u001b[0m\u001b[0;34m\u001b[0m\u001b[0m\n\u001b[0m\u001b[1;32m      3\u001b[0m \u001b[0;32mimport\u001b[0m \u001b[0mtorch\u001b[0m\u001b[0;34m.\u001b[0m\u001b[0mnn\u001b[0m \u001b[0;32mas\u001b[0m \u001b[0mnn\u001b[0m\u001b[0;34m\u001b[0m\u001b[0;34m\u001b[0m\u001b[0m\n\u001b[1;32m      4\u001b[0m \u001b[0;32mimport\u001b[0m \u001b[0mtorch\u001b[0m\u001b[0;34m.\u001b[0m\u001b[0mnn\u001b[0m\u001b[0;34m.\u001b[0m\u001b[0mfunctional\u001b[0m \u001b[0;32mas\u001b[0m \u001b[0mF\u001b[0m\u001b[0;34m\u001b[0m\u001b[0;34m\u001b[0m\u001b[0m\n\u001b[1;32m      5\u001b[0m \u001b[0;32mimport\u001b[0m \u001b[0mtorch\u001b[0m\u001b[0;34m.\u001b[0m\u001b[0moptim\u001b[0m \u001b[0;32mas\u001b[0m \u001b[0moptim\u001b[0m\u001b[0;34m\u001b[0m\u001b[0;34m\u001b[0m\u001b[0m\n",
            "\u001b[0;31mModuleNotFoundError\u001b[0m: No module named 'torch'"
          ]
        }
      ],
      "source": [
        "import numpy as np\n",
        "import torch\n",
        "import torch.nn as nn\n",
        "import torch.nn.functional as F\n",
        "import torch.optim as optim\n",
        "import cv2,glob\n",
        "import random\n",
        "import tensorflow as tf\n",
        "from sklearn.model_selection import train_test_split"
      ]
    },
    {
      "cell_type": "markdown",
      "metadata": {
        "id": "m-MYAjrZa8qd"
      },
      "source": [
        "0.Data retrieving/some preprocessing\n"
      ]
    },
    {
      "cell_type": "code",
      "execution_count": 2,
      "metadata": {
        "colab": {
          "base_uri": "https://localhost:8080/"
        },
        "id": "11YR1UndQ77o",
        "outputId": "f2415dad-7b22-47b9-ac63-2056a9eb7f0a"
      },
      "outputs": [
        {
          "name": "stdout",
          "output_type": "stream",
          "text": [
            "Mounted at /content/drive\n"
          ]
        }
      ],
      "source": [
        "# Load the Drive helper and mount\n",
        "from google.colab import drive\n",
        "import pickle\n",
        "\n",
        "# This will prompt for authorization.\n",
        "drive.mount('/content/drive')\n",
        "\n",
        "DATA_PATH = \"/content/drive/My Drive/Team 6/processed-data\""
      ]
    },
    {
      "cell_type": "code",
      "execution_count": 43,
      "metadata": {
        "colab": {
          "base_uri": "https://localhost:8080/"
        },
        "id": "cdoDKd7ORZdS",
        "outputId": "f83f79e6-3fb3-41b5-a7c3-0cce869bd830"
      },
      "outputs": [
        {
          "name": "stdout",
          "output_type": "stream",
          "text": [
            "features_list \n",
            ". eg tensor([[[[2.0803e-02, 2.0335e-01, 1.9791e-01,  ..., 4.5398e-03,\n",
            "           6.4138e-03, 9.7432e-04],\n",
            "          [3.8635e-02, 3.7764e-01, 3.6756e-01,  ..., 8.4310e-03,\n",
            "           1.1911e-02, 1.8094e-03],\n",
            "          [2.4055e-02, 3.3172e-01, 2.5881e-01,  ..., 3.7214e-02,\n",
            "           6.7238e-02, 8.2930e-02],\n",
            "          ...,\n",
            "          [1.9897e-02, 8.3690e-03, 1.5399e-04,  ..., 9.7631e-05,\n",
            "           1.5120e-04, 8.3749e-03],\n",
            "          [2.7316e-04, 4.3446e-03, 4.4164e-04,  ..., 3.0579e-04,\n",
            "           2.3322e-04, 3.6309e-03],\n",
            "          [1.4709e-04, 2.3394e-03, 2.3781e-04,  ..., 1.6466e-04,\n",
            "           1.2558e-04, 1.9551e-03]]]])\n",
            "length 3780\n",
            "width 1\n",
            "<class 'torch.Tensor'>\n",
            "<class 'torch.Tensor'> shape torch.Size([1, 32, 401])\n",
            "<class 'torch.Tensor'> shape torch.Size([32, 401])\n",
            "-----------------\n",
            "labels_list \n",
            " [0]\n",
            "length 3780\n",
            "peek 0\n",
            "<class 'list'>\n",
            "<class 'int'>\n"
          ]
        }
      ],
      "source": [
        "features= open(DATA_PATH+'/features-10M.pkl','rb')\n",
        "labels= open(DATA_PATH+'/labels-10M.pkl','rb')\n",
        "features_list = pickle.load(features)\n",
        "features_list = features_list#[:3780]\n",
        "labels_list = pickle.load(labels)\n",
        "labels_list = labels_list#[:3780]\n",
        "\n",
        "#labels_list = [random.randint(0,1) for _ in range(len(features_list))]\n",
        "\n",
        "print(\"features_list\",\"\\n. eg\", features_list[:1])\n",
        "print(\"length\", len(features_list)) \n",
        "print(\"width\", len(features_list[0]))\n",
        "print(type(features_list))\n",
        "print(type(features_list[0]),\"shape\",features_list[0].shape)\n",
        "print(type(features_list[0][0]),\"shape\",features_list[0][0].shape)\n",
        "print(\"-----------------\")\n",
        "print(\"labels_list\",\"\\n\",labels_list[:1])\n",
        "print(\"length\", len(labels_list)) \n",
        "print(\"peek\", labels_list[0])\n",
        "print(type(labels_list))\n",
        "print(type(labels_list[0]))"
      ]
    },
    {
      "cell_type": "code",
      "execution_count": 4,
      "metadata": {
        "id": "-x-SYM90-iwd"
      },
      "outputs": [],
      "source": [
        "def crossJoin (list1,list2):\n",
        "  crossJoined_list = []\n",
        "  \n",
        "  for i in range(0,len(list1)):\n",
        "    inner_list = []\n",
        "    for j in range(0,1):\n",
        "      inner_list.append(list1[i])\n",
        "      inner_list.append(list2[i])\n",
        "    crossJoined_list.append(inner_list)\n",
        "\n",
        "  return crossJoined_list"
      ]
    },
    {
      "cell_type": "markdown",
      "metadata": {
        "id": "d-hzG5o3PGrg"
      },
      "source": [
        "**1. Train/validate/test split**"
      ]
    },
    {
      "cell_type": "code",
      "execution_count": 51,
      "metadata": {
        "id": "Eoo3JxJwE3bW"
      },
      "outputs": [],
      "source": [
        "\n",
        "X_train,X_test,Y_train,Y_test = train_test_split(features_list, labels_list, test_size=0.3, train_size=0.7, random_state=1, shuffle=True)\n",
        "\n",
        "X_val, X_test, Y_val, Y_test = train_test_split(X_test, Y_test, test_size=0.5, random_state=1)\n"
      ]
    },
    {
      "cell_type": "code",
      "execution_count": 52,
      "metadata": {
        "colab": {
          "base_uri": "https://localhost:8080/"
        },
        "id": "eVHRZ00ZmZSw",
        "outputId": "860abfd7-3262-41f5-a678-21aefb54e8b8"
      },
      "outputs": [
        {
          "name": "stdout",
          "output_type": "stream",
          "text": [
            "0:1 Interruption Ratio -  2641 : 5\n",
            "Weight: [0.00037864 0.2       ]\n",
            "Sampler loaded.\n"
          ]
        }
      ],
      "source": [
        "from torch.utils.data import WeightedRandomSampler\n",
        "from collections import Counter\n",
        "\n",
        "count=Counter(Y_train)\n",
        "class_count=np.array([count[0],count[1]])\n",
        "print(\"0:1 Interruption Ratio - \", count[0],\":\",count[1])\n",
        "weight=1./class_count\n",
        "print(\"Weight:\", weight)\n",
        "\n",
        "samples_weight = np.array([weight[t] for t in Y_train])\n",
        "samples_weight = torch.from_numpy(samples_weight)\n",
        "\n",
        "sampler = WeightedRandomSampler(samples_weight, len(samples_weight))\n",
        "print(\"Sampler loaded.\")"
      ]
    },
    {
      "cell_type": "code",
      "execution_count": 53,
      "metadata": {
        "colab": {
          "base_uri": "https://localhost:8080/"
        },
        "id": "Wd6XDdk9mdzG",
        "outputId": "6882348f-53c7-4168-be48-5583ad8f1f1b"
      },
      "outputs": [
        {
          "name": "stdout",
          "output_type": "stream",
          "text": [
            "0:1 Interruption Ratio -  565 : 2\n",
            "Weight: [0.00176991 0.5       ]\n",
            "Validated sampler loaded.\n"
          ]
        }
      ],
      "source": [
        "count_val=Counter(Y_val)\n",
        "class_count_val=np.array([count_val[0],count_val[1]])\n",
        "print(\"0:1 Interruption Ratio - \", count_val[0],\":\",count_val[1])\n",
        "weight_val=1./class_count_val\n",
        "print(\"Weight:\", weight_val)\n",
        "\n",
        "samples_weight_val = np.array([weight_val[t] for t in Y_val])\n",
        "samples_weight_val = torch.from_numpy(samples_weight_val)\n",
        "\n",
        "sampler_val = WeightedRandomSampler(samples_weight_val, len(samples_weight_val))\n",
        "print(\"Validated sampler loaded.\")"
      ]
    },
    {
      "cell_type": "code",
      "execution_count": 60,
      "metadata": {
        "id": "yInB4eeN7Vfw"
      },
      "outputs": [],
      "source": [
        "class CNN(nn.Module):\n",
        "    def __init__(self):\n",
        "        super().__init__()\n",
        "        self.conv1 = nn.Conv2d(in_channels = 1, out_channels = 3, kernel_size = 1)\n",
        "        self.pool = nn.MaxPool2d(2, 2)\n",
        "        self.conv2 = nn.Conv2d(3, 6, 2, stride=2)\n",
        "        self.conv3 = nn.Conv2d(6, 6, 2, stride=2)\n",
        "        self.fc1 = nn.Linear(72, 64)\n",
        "        self.fc2 = nn.Linear(64, 64)\n",
        "        self.fc3 = nn.Linear(64, 2)\n",
        "\n",
        "    def forward(self, x):\n",
        "        x = self.pool(F.relu(self.conv1(x)))\n",
        "        x = self.pool(F.relu(self.conv2(x)))\n",
        "        x = self.pool(F.relu(self.conv3(x)))\n",
        "        x = torch.flatten(x, 1) # flatten all dimensions except batch\n",
        "        x = F.relu(self.fc1(x))\n",
        "        x = F.relu(self.fc2(x))\n",
        "        x = self.fc3(x)\n",
        "        return x"
      ]
    },
    {
      "cell_type": "code",
      "execution_count": 10,
      "metadata": {
        "id": "ihB0M6aLA3Xe"
      },
      "outputs": [],
      "source": []
    },
    {
      "cell_type": "code",
      "execution_count": 61,
      "metadata": {
        "id": "STETCGada4LK"
      },
      "outputs": [],
      "source": [
        "from torch.utils.data import DataLoader\n",
        "\n",
        "train_dataloader = DataLoader(train_data, batch_size=64, shuffle=True)\n",
        "\n",
        "val_dataloader = DataLoader(val_data, batch_size=64, shuffle=True )\n",
        "\n",
        "test_dataloader = DataLoader(test_data, batch_size=64, shuffle=True)"
      ]
    },
    {
      "cell_type": "code",
      "execution_count": 12,
      "metadata": {
        "id": "H1iur-GOXIoR"
      },
      "outputs": [],
      "source": [
        "use_gpu = torch.cuda.is_available()"
      ]
    },
    {
      "cell_type": "markdown",
      "metadata": {},
      "source": [
        "2.Training"
      ]
    },
    {
      "cell_type": "code",
      "execution_count": 13,
      "metadata": {
        "id": "KGoQlJfLXDuN"
      },
      "outputs": [],
      "source": [
        "def prediction(loader, model):\n",
        "\n",
        "  correct = 0\n",
        "  total = 0\n",
        "  losses = 0\n",
        "\n",
        "  for i, (images, labels) in enumerate(loader):\n",
        "    if use_gpu:\n",
        "      # switch tensor type to GPU\n",
        "      images = images.cuda()\n",
        "      labels = labels.cuda()\n",
        "      \n",
        "      \n",
        "    #print(image.shape, 'test')\n",
        "    outputs = model(images)\n",
        "    \n",
        "    loss = criterion(outputs, labels)\n",
        "  \n",
        "    _, predictions = torch.max(outputs, 1)\n",
        "  \n",
        "    correct += torch.sum(labels == predictions).item()\n",
        "    total += labels.shape[0]\n",
        "    \n",
        "    losses += loss.data.item()\n",
        "    \n",
        "  return losses/len(list(loader)), 1 - correct/total # we need to normalize loss with respect to the number of batches "
      ]
    },
    {
      "cell_type": "code",
      "execution_count": 62,
      "metadata": {
        "colab": {
          "base_uri": "https://localhost:8080/"
        },
        "id": "yPHz_tKTW5IU",
        "outputId": "0dceb56f-1190-4df3-b0de-a5e8ee0b270c"
      },
      "outputs": [
        {
          "name": "stdout",
          "output_type": "stream",
          "text": [
            "Epoch: 1/15, Loss: 0.1720, Error Rate: 6.4%\n",
            "Epoch: 2/15, Loss: 0.0368, Error Rate: 0.2%\n",
            "Epoch: 3/15, Loss: 0.0191, Error Rate: 0.2%\n",
            "Epoch: 4/15, Loss: 0.0147, Error Rate: 0.2%\n",
            "Epoch: 5/15, Loss: 0.0129, Error Rate: 0.2%\n",
            "Epoch: 6/15, Loss: 0.0119, Error Rate: 0.2%\n",
            "Epoch: 7/15, Loss: 0.0113, Error Rate: 0.2%\n",
            "Epoch: 8/15, Loss: 0.0107, Error Rate: 0.2%\n",
            "Epoch: 9/15, Loss: 0.0103, Error Rate: 0.2%\n",
            "Epoch: 10/15, Loss: 0.0101, Error Rate: 0.2%\n",
            "Epoch: 11/15, Loss: 0.0097, Error Rate: 0.2%\n",
            "Epoch: 12/15, Loss: 0.0094, Error Rate: 0.2%\n",
            "Epoch: 13/15, Loss: 0.0092, Error Rate: 0.2%\n",
            "Epoch: 14/15, Loss: 0.0089, Error Rate: 0.2%\n",
            "Epoch: 15/15, Loss: 0.0087, Error Rate: 0.2%\n"
          ]
        }
      ],
      "source": [
        "CNN = CNN()\n",
        "\n",
        "#evaluation\n",
        "criterion = nn.CrossEntropyLoss()\n",
        "optimizer = optim.SGD(CNN.parameters(), lr=0.01, momentum=0.9)\n",
        "\n",
        "train_losses = []\n",
        "test_losses = []\n",
        "\n",
        "train_error_rates = []\n",
        "test_error_rates = []\n",
        "\n",
        "\n",
        "if use_gpu:\n",
        "  # switch model to GPU\n",
        "  CNN.cuda()\n",
        "\n",
        "num_epochs = 15\n",
        "\n",
        "for epoch in range(num_epochs): \n",
        "  train_loss = 0 \n",
        "  n_iter = 0 \n",
        "  total = 0\n",
        "  correct = 0\n",
        "\n",
        "  for i, (images, labels) in enumerate(train_dataloader): \n",
        "    optimizer.zero_grad() \n",
        "\n",
        "    if use_gpu: \n",
        "      images = images.cuda()\n",
        "      labels = labels.cuda()\n",
        "\n",
        "    #print(images.shape, 'train')\n",
        "    outputs = CNN(images)\n",
        "    \n",
        "    # to compute the train_error_rates  \n",
        "    _, predictions = torch.max(outputs, 1)\n",
        "    correct += torch.sum(labels == predictions).item()\n",
        "    total += labels.shape[0]\n",
        "    \n",
        "    # compute loss\n",
        "    #print(outputs.shape)\n",
        "    #print(labels.shape)\n",
        "    #print(labels) \n",
        "    loss_bs = criterion(outputs, labels)\n",
        "    # compute gradients\n",
        "    loss_bs.backward()\n",
        "    # update weights\n",
        "    optimizer.step()\n",
        "\n",
        "    train_loss += loss_bs.detach().item()\n",
        "\n",
        "    n_iter += 1\n",
        "\n",
        "  train_error_rate = 1 - correct/total\n",
        "\n",
        "  with torch.no_grad():\n",
        "    test_loss, test_error_rate = prediction(val_dataloader, CNN)\n",
        "\n",
        "  train_error_rates.append(train_error_rate)\n",
        "  test_error_rates.append(test_error_rate)\n",
        "  train_losses.append(train_loss/n_iter)\n",
        "  test_losses.append(test_loss)\n",
        "\n",
        "  if epoch%1 == 0:\n",
        "    print('Epoch: {}/{}, Loss: {:.4f}, Error Rate: {:.1f}%'.format(epoch+1, num_epochs, train_loss/n_iter, 100*train_error_rate))"
      ]
    },
    {
      "cell_type": "code",
      "execution_count": 57,
      "metadata": {
        "id": "VJV64iH2Bs_3"
      },
      "outputs": [],
      "source": [
        "from matplotlib import pyplot as plt\n"
      ]
    },
    {
      "cell_type": "code",
      "execution_count": 63,
      "metadata": {
        "colab": {
          "base_uri": "https://localhost:8080/",
          "height": 499
        },
        "id": "GNVMO4p_X6Ir",
        "outputId": "3f253915-9598-4a14-c3c7-a5e95ca233f8"
      },
      "outputs": [
        {
          "data": {
            "image/png": "[encoded data removed]",
            "text/plain": [
              "<Figure size 720x576 with 2 Axes>"
            ]
          },
          "metadata": {
            "needs_background": "light"
          },
          "output_type": "display_data"
        }
      ],
      "source": [
        "plt.figure(figsize=(10, 8))\n",
        "plt.subplot(1,2,1)\n",
        "plt.plot(train_losses, label='train', marker='o', alpha=0.7)\n",
        "plt.plot(test_losses, label='test', marker='o', alpha=0.7)\n",
        "plt.grid(True)\n",
        "plt.legend()\n",
        "plt.title('Loss')\n",
        "plt.subplot(1,2,2)\n",
        "plt.plot(train_error_rates, label='train', marker='o', alpha=0.7)\n",
        "plt.plot(test_error_rates, label='test', marker='o', alpha=0.7)\n",
        "plt.grid(True)\n",
        "plt.legend()\n",
        "plt.title('Error rate')\n",
        "plt.show()"
      ]
    },
    {
      "cell_type": "markdown",
      "metadata": {
        "id": "ZtHNRhD2ejIj"
      },
      "source": [
        "should follow this format\n",
        "https://colab.research.google.com/drive/1HtJpNyh6oWabiVcDUG_2TJ34TtVo5JH8?authuser=2#scrollTo=D2lKHjcfscif"
      ]
    },
    {
      "cell_type": "code",
      "execution_count": null,
      "metadata": {
        "id": "TJMphfZiRXlq"
      },
      "outputs": [],
      "source": [
        "# compute Accuracy"
      ]
    },
    {
      "cell_type": "code",
      "execution_count": 88,
      "metadata": {
        "id": "VWtTABerRa_8"
      },
      "outputs": [],
      "source": [
        "# compute precision/recall rate\n",
        "from sklearn.metrics import classification_report,roc_auc_score,roc_curve,plot_roc_curve\n",
        "\n",
        "def score_binary_classification(y_true, y_hat, report=True):\n",
        "    \"\"\"\n",
        "    Create binary classification output\n",
        "    :param y: true value\n",
        "    :param y_hat: class 1 probabilities\n",
        "    :param report:\n",
        "    :return:\n",
        "    \"\"\"\n",
        "    y_hat_class = [1 if x >= 0.5 else 0 for x in y_hat]  # convert probability to class for classification report\n",
        "\n",
        "    report_string = \"---Binary Classification Score--- \\n\"\n",
        "    report_string += classification_report(y_true, y_hat_class)\n",
        "    score = roc_auc_score(y_true, y_hat)\n",
        "    report_string += \"\\nAUC = \" + str(score)\n",
        "\n",
        "    if report:\n",
        "        print(report_string)\n",
        "\n",
        "    return "
      ]
    },
    {
      "cell_type": "code",
      "execution_count": 86,
      "metadata": {
        "colab": {
          "base_uri": "https://localhost:8080/"
        },
        "id": "by97B0BoUM2q",
        "outputId": "aebd2cc6-932b-4f55-efe9-cf977181cf1d"
      },
      "outputs": [
        {
          "name": "stdout",
          "output_type": "stream",
          "text": [
            "---Binary Classification Score--- \n",
            "              precision    recall  f1-score   support\n",
            "\n",
            "           0       0.25      0.33      0.29         3\n",
            "           1       0.67      0.57      0.62         7\n",
            "\n",
            "    accuracy                           0.50        10\n",
            "   macro avg       0.46      0.45      0.45        10\n",
            "weighted avg       0.54      0.50      0.52        10\n",
            "\n",
            "AUC = 0.47619047619047616\n"
          ]
        }
      ],
      "source": [
        "y_true = [0,0,0,1,1,1,1,1,1,1]\n",
        "y_hat = [0.6,0.5,0.4,0.3,0.7,0.8,0.2,0.6,0.5,0.3]\n",
        "score_binary_classification(y_true,y_hat,True)"
      ]
    },
    {
      "cell_type": "code",
      "execution_count": 87,
      "metadata": {
        "colab": {
          "base_uri": "https://localhost:8080/",
          "height": 265
        },
        "id": "18ShP9KLX9Hu",
        "outputId": "3f4886ce-2b13-4093-b873-ef349aec80d5"
      },
      "outputs": [
        {
          "data": {
            "image/png": "[encoded data removed]",
            "text/plain": [
              "<Figure size 432x288 with 1 Axes>"
            ]
          },
          "metadata": {
            "needs_background": "light"
          },
          "output_type": "display_data"
        }
      ],
      "source": [
        "#import sklearn.metrics as metrics\n",
        "# calculate the fpr and tpr for all thresholds of the classification\n",
        "'''\n",
        "probs = model.predict_proba(X_test)\n",
        "preds = probs[:,1]\n",
        "fpr, tpr, threshold = metrics.roc_curve(y_test, preds)\n",
        "roc_auc = metrics.auc(fpr, tpr)\n",
        "'''\n",
        "#import scikitplot as skplt\n",
        "fpr, tpr, thresholds = roc_curve(y_true, y_hat)\n",
        "auc = roc_auc_score(y_true, y_hat)\n",
        "plt.plot(fpr,tpr,label=\"data 1, auc=\"+str(auc))\n",
        "plt.legend(loc=4)\n",
        "plt.show()"
      ]
    }
  ],
  "metadata": {
    "colab": {
      "collapsed_sections": [],
      "include_colab_link": true,
      "name": "Copy of CNNModelWork",
      "provenance": []
    },
    "kernelspec": {
      "display_name": "Python 3",
      "name": "python3"
    },
    "language_info": {
      "codemirror_mode": {
        "name": "ipython",
        "version": 3
      },
      "file_extension": ".py",
      "mimetype": "text/x-python",
      "name": "python",
      "nbconvert_exporter": "python",
      "pygments_lexer": "ipython3",
      "version": "3.9.7"
    }
  },
  "nbformat": 4,
  "nbformat_minor": 0
}
