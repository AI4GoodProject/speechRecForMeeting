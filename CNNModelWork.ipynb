{
  "nbformat": 4,
  "nbformat_minor": 0,
  "metadata": {
    "colab": {
      "name": "CNNModelWork",
      "provenance": [],
      "collapsed_sections": [],
      "include_colab_link": true
    },
    "kernelspec": {
      "name": "python3",
      "display_name": "Python 3"
    },
    "language_info": {
      "name": "python"
    }
  },
  "cells": [
    {
      "cell_type": "markdown",
      "metadata": {
        "id": "view-in-github",
        "colab_type": "text"
      },
      "source": [
        "<a href=\"https://colab.research.google.com/github/AI4GoodProject/speechRecForMeeting/blob/master/CNNModelWork.ipynb\" target=\"_parent\"><img src=\"https://colab.research.google.com/assets/colab-badge.svg\" alt=\"Open In Colab\"/></a>"
      ]
    },
    {
      "cell_type": "code",
      "execution_count": 43,
      "metadata": {
        "id": "J-aURtjMTCBm"
      },
      "outputs": [],
      "source": [
        "import numpy as np\n",
        "import torch\n",
        "import torch.nn as nn\n",
        "import torch.nn.functional as F\n",
        "import torch.optim as optim\n",
        "import cv2,glob\n",
        "import random\n",
        "from sklearn.model_selection import train_test_split"
      ]
    },
    {
      "cell_type": "markdown",
      "source": [
        "0.Data retrieving/some preprocessing\n"
      ],
      "metadata": {
        "id": "m-MYAjrZa8qd"
      }
    },
    {
      "cell_type": "code",
      "source": [
        "# Load the Drive helper and mount\n",
        "from google.colab import drive\n",
        "import pickle\n",
        "\n",
        "# This will prompt for authorization.\n",
        "drive.mount('/content/drive')\n",
        "\n",
        "DATA_PATH = \"/content/drive/My Drive/Team 6/processed-data\""
      ],
      "metadata": {
        "colab": {
          "base_uri": "https://localhost:8080/"
        },
        "id": "11YR1UndQ77o",
        "outputId": "f6ffa175-cc26-4f27-e40a-dd21f851a02b"
      },
      "execution_count": 16,
      "outputs": [
        {
          "output_type": "stream",
          "name": "stdout",
          "text": [
            "Drive already mounted at /content/drive; to attempt to forcibly remount, call drive.mount(\"/content/drive\", force_remount=True).\n"
          ]
        }
      ]
    },
    {
      "cell_type": "code",
      "source": [
        "!ls \"/content/drive/My Drive/Team 6/processed-data\""
      ],
      "metadata": {
        "colab": {
          "base_uri": "https://localhost:8080/"
        },
        "id": "F7H6MZXWRPNC",
        "outputId": "1928144c-6043-4501-9ba5-c2865f6d49e6"
      },
      "execution_count": 8,
      "outputs": [
        {
          "output_type": "stream",
          "name": "stdout",
          "text": [
            "dialogue-acts.pkl  features.pkl\n"
          ]
        }
      ]
    },
    {
      "cell_type": "code",
      "source": [
        "features= open(DATA_PATH+'/features.pkl','rb')\n",
        "#meeting_df= open(DATA_PATH+'/dialogue-acts.pkl','rb')\n",
        "features_list = pickle.load(features)\n",
        "booleans_list = []\n",
        "\n",
        "for i in range(0,len(features_list)):\n",
        "  random_bits = random.getrandbits(5)\n",
        "  booleans_list.append(bool(random_bits))\n",
        "\n",
        "\n",
        "print(\"features_list\",\"\\n\", features_list[:5])\n",
        "print(\"length\", len(features_list)) \n",
        "print(\"width\", len(features_list[0]))\n",
        "print(\"-----------------\")\n",
        "print(\"booleans_list\",\"\\n\",booleans_list[:5])\n",
        "print(\"length\", len(booleans_list)) \n",
        "print(\"width\", booleans_list[0])\n"
      ],
      "metadata": {
        "colab": {
          "base_uri": "https://localhost:8080/"
        },
        "id": "cdoDKd7ORZdS",
        "outputId": "87124971-f009-4a0d-85df-d0878b659f1a"
      },
      "execution_count": 78,
      "outputs": [
        {
          "output_type": "stream",
          "name": "stdout",
          "text": [
            "features_list \n",
            " [array([[7.1597932e-04, 1.9338253e-04, 4.6453884e-04, ..., 3.4911142e-04,\n",
            "        8.6215977e-04, 2.1067560e-03],\n",
            "       [1.8004803e-03, 6.4909243e-04, 1.0058059e-03, ..., 7.8662910e-04,\n",
            "        3.6218630e-03, 1.6237851e-02],\n",
            "       [4.2893961e-03, 3.8882708e-03, 1.0424453e-02, ..., 2.0834696e-03,\n",
            "        2.7668604e-03, 6.4639011e-03],\n",
            "       ...,\n",
            "       [2.3597777e-07, 3.0304275e-07, 2.6253872e-07, ..., 3.8473129e-07,\n",
            "        2.9374269e-07, 4.3489683e-07],\n",
            "       [2.1526543e-07, 1.9735974e-07, 1.6411558e-07, ..., 3.0774763e-07,\n",
            "        2.5692663e-07, 4.1122118e-07],\n",
            "       [2.1816778e-07, 2.1505960e-07, 1.9730011e-07, ..., 2.9854834e-07,\n",
            "        3.5006087e-07, 2.3322755e-07]], dtype=float32), array([[3.5758321e-03, 1.6352083e-03, 2.0024246e-03, ..., 2.8073965e-04,\n",
            "        6.8266573e-04, 3.0436167e-03],\n",
            "       [6.5945424e-03, 2.4174996e-02, 2.1251529e-02, ..., 5.5366373e-03,\n",
            "        7.6450505e-03, 1.6457111e-02],\n",
            "       [3.3398282e-02, 5.5603825e-02, 1.9763701e-02, ..., 6.3187908e-03,\n",
            "        8.6350553e-03, 4.5788534e-02],\n",
            "       ...,\n",
            "       [8.8381732e-08, 1.2332319e-07, 1.2846617e-07, ..., 2.0432411e-07,\n",
            "        1.6328904e-07, 1.3630614e-07],\n",
            "       [1.4425841e-07, 1.4172366e-07, 1.3053125e-07, ..., 1.3722625e-07,\n",
            "        1.1575593e-07, 1.4104326e-07],\n",
            "       [1.6085450e-07, 1.4107175e-07, 1.4254024e-07, ..., 1.1585481e-07,\n",
            "        1.2431481e-07, 1.2237028e-07]], dtype=float32), array([[5.0087034e-04, 5.2905083e-04, 1.0006062e-03, ..., 1.0837520e-03,\n",
            "        4.8429365e-04, 3.5532725e-03],\n",
            "       [6.3362044e-05, 4.4287826e-04, 1.5244124e-03, ..., 1.8716975e-03,\n",
            "        1.2172665e-03, 3.9183344e-03],\n",
            "       [3.9810926e-04, 1.5590182e-03, 3.6750850e-03, ..., 2.6289681e-03,\n",
            "        1.8266194e-03, 5.5618137e-03],\n",
            "       ...,\n",
            "       [1.7736980e-07, 1.9685724e-07, 1.9351636e-07, ..., 7.9257438e-07,\n",
            "        6.6389248e-07, 9.8699468e-07],\n",
            "       [1.3513579e-07, 1.4819129e-07, 1.4436962e-07, ..., 4.1111295e-07,\n",
            "        5.0641677e-07, 1.0841217e-06],\n",
            "       [1.1817613e-07, 1.2390163e-07, 1.0449151e-07, ..., 3.5583020e-07,\n",
            "        4.4226073e-07, 8.4329179e-07]], dtype=float32), array([[2.3537800e-02, 6.6422764e-03, 2.8226839e-04, ..., 1.1461897e-04,\n",
            "        6.1661412e-05, 7.5595424e-04],\n",
            "       [3.5134420e-02, 4.2780995e-02, 1.6318312e-02, ..., 3.6640635e-03,\n",
            "        3.1534808e-03, 2.3590217e-03],\n",
            "       [3.8073689e-02, 7.4329227e-02, 3.2654099e-02, ..., 6.1865100e-03,\n",
            "        3.6064994e-03, 1.8630686e-03],\n",
            "       ...,\n",
            "       [1.8439209e-07, 1.8069503e-07, 1.7749383e-07, ..., 1.2388273e-07,\n",
            "        1.3369680e-07, 1.3847487e-07],\n",
            "       [2.0191911e-07, 1.8721460e-07, 1.6735721e-07, ..., 1.4113067e-07,\n",
            "        1.8251714e-07, 2.1883037e-07],\n",
            "       [1.3380881e-07, 1.1135312e-07, 1.2925470e-07, ..., 1.4075680e-07,\n",
            "        1.7075025e-07, 1.8873435e-07]], dtype=float32), array([[1.1528582e-04, 7.5593533e-05, 8.5922584e-05, ..., 2.7279451e-03,\n",
            "        2.0053743e-03, 1.1537344e-03],\n",
            "       [1.0872609e-03, 1.0353618e-03, 1.1683751e-03, ..., 1.8770011e-02,\n",
            "        2.3545932e-03, 7.5949548e-04],\n",
            "       [5.7235244e-03, 2.6931004e-03, 1.4374113e-03, ..., 3.2565631e-02,\n",
            "        4.5373058e-03, 6.1755301e-04],\n",
            "       ...,\n",
            "       [2.2687827e-07, 1.4843727e-07, 1.2939138e-07, ..., 1.9037194e-07,\n",
            "        1.6461284e-07, 1.2594825e-07],\n",
            "       [1.5001920e-07, 1.3088943e-07, 1.4635442e-07, ..., 2.0170401e-07,\n",
            "        1.4271838e-07, 1.1365180e-07],\n",
            "       [1.1983845e-07, 1.4812125e-07, 1.3140649e-07, ..., 1.9126730e-07,\n",
            "        1.8965076e-07, 9.4867339e-08]], dtype=float32)]\n",
            "length 2813\n",
            "width 128\n",
            "-----------------\n",
            "booleans_list \n",
            " [True, True, True, True, True]\n",
            "length 2813\n",
            "width True\n"
          ]
        }
      ]
    },
    {
      "cell_type": "code",
      "source": [
        ""
      ],
      "metadata": {
        "id": "yylAq7SAQ7DM"
      },
      "execution_count": null,
      "outputs": []
    },
    {
      "cell_type": "code",
      "source": [
        "def crossJoin (list1,list2):\n",
        "  crossJoined_list = []\n",
        "  for i in range(0,len(list1)):\n",
        "    crossJoined_list.append(list1[i])\n",
        "    crossJoined_list.append(list2[i])\n",
        "  return crossJoined_list"
      ],
      "metadata": {
        "id": "-x-SYM90-iwd"
      },
      "execution_count": 3,
      "outputs": []
    },
    {
      "cell_type": "code",
      "source": [
        "# for testing purpose\n",
        "\n",
        "list1 = np.array([['a', 'b'], ['c','d'],['e','f']])\n",
        "list2 = np.array([[True], [False], [True]])"
      ],
      "metadata": {
        "id": "C0vJ9Bli9tD6"
      },
      "execution_count": 2,
      "outputs": []
    },
    {
      "cell_type": "code",
      "source": [
        "crossJoin (list1,list2)"
      ],
      "metadata": {
        "colab": {
          "base_uri": "https://localhost:8080/"
        },
        "id": "C7fF1DN5AAyV",
        "outputId": "3139ca75-323e-49f6-d1e6-8cd075368584"
      },
      "execution_count": 4,
      "outputs": [
        {
          "output_type": "execute_result",
          "data": {
            "text/plain": [
              "[array(['a', 'b'], dtype='<U1'),\n",
              " array([ True]),\n",
              " array(['c', 'd'], dtype='<U1'),\n",
              " array([False]),\n",
              " array(['e', 'f'], dtype='<U1'),\n",
              " array([ True])]"
            ]
          },
          "metadata": {},
          "execution_count": 4
        }
      ]
    },
    {
      "cell_type": "code",
      "source": [
        "for image in features_list:\n",
        "  print(image.shape)\n",
        "  break\n",
        "\n"
      ],
      "metadata": {
        "colab": {
          "base_uri": "https://localhost:8080/"
        },
        "id": "3yl8ME4BzeB_",
        "outputId": "d5a776a9-0d8b-4ba8-d7e4-0226f1df631a"
      },
      "execution_count": 86,
      "outputs": [
        {
          "output_type": "stream",
          "name": "stdout",
          "text": [
            "(128, 313)\n"
          ]
        }
      ]
    },
    {
      "cell_type": "code",
      "source": [
        "print(features_list[0])"
      ],
      "metadata": {
        "colab": {
          "base_uri": "https://localhost:8080/"
        },
        "id": "_Yp6n_YFQOeb",
        "outputId": "bda72ebe-2b80-4b58-85a2-12742750276d"
      },
      "execution_count": 79,
      "outputs": [
        {
          "output_type": "stream",
          "name": "stdout",
          "text": [
            "[[7.1597932e-04 1.9338253e-04 4.6453884e-04 ... 3.4911142e-04\n",
            "  8.6215977e-04 2.1067560e-03]\n",
            " [1.8004803e-03 6.4909243e-04 1.0058059e-03 ... 7.8662910e-04\n",
            "  3.6218630e-03 1.6237851e-02]\n",
            " [4.2893961e-03 3.8882708e-03 1.0424453e-02 ... 2.0834696e-03\n",
            "  2.7668604e-03 6.4639011e-03]\n",
            " ...\n",
            " [2.3597777e-07 3.0304275e-07 2.6253872e-07 ... 3.8473129e-07\n",
            "  2.9374269e-07 4.3489683e-07]\n",
            " [2.1526543e-07 1.9735974e-07 1.6411558e-07 ... 3.0774763e-07\n",
            "  2.5692663e-07 4.1122118e-07]\n",
            " [2.1816778e-07 2.1505960e-07 1.9730011e-07 ... 2.9854834e-07\n",
            "  3.5006087e-07 2.3322755e-07]]\n"
          ]
        }
      ]
    },
    {
      "cell_type": "markdown",
      "source": [
        "1. Train/validate/test split"
      ],
      "metadata": {
        "id": "d-hzG5o3PGrg"
      }
    },
    {
      "cell_type": "code",
      "source": [
        "# Manually set up training/validation/testing dataset\n",
        "def split_three(list, train_r, val_r, test_r ):\n",
        "    random.shuffle(list)\n",
        "    c1 = int(len(list)*train_r)\n",
        "    c2 = int(len(list)* (train_r + val_r))\n",
        "    \n",
        "    train = list[:c1]\n",
        "    val = list[c1:c2]\n",
        "    test = list[c2:]\n",
        "\n",
        "    return train, val, test"
      ],
      "metadata": {
        "id": "KTGJbj0oWE5A"
      },
      "execution_count": 97,
      "outputs": []
    },
    {
      "cell_type": "code",
      "source": [
        "X_train, X_val, X_test = split_three(features_list,0.6, 0.2, 0.2)\n",
        "Y_train, Y_val, Y_test = split_three(booleans_list,0.6, 0.2, 0.2)"
      ],
      "metadata": {
        "id": "5akR3D76WIzW"
      },
      "execution_count": 100,
      "outputs": []
    },
    {
      "cell_type": "code",
      "source": [
        "trainloader = crossJoin(X_train, Y_train)\n",
        "valloader = crossJoin(X_val, Y_val)\n",
        "testloader = crossJoin(X_test,Y_test)"
      ],
      "metadata": {
        "id": "RB2vF9lCAlp0"
      },
      "execution_count": 105,
      "outputs": []
    },
    {
      "cell_type": "code",
      "source": [
        ""
      ],
      "metadata": {
        "id": "XX4UnnKMe0UT"
      },
      "execution_count": null,
      "outputs": []
    },
    {
      "cell_type": "code",
      "source": [
        "class Net(nn.Module):\n",
        "    def __init__(self):\n",
        "        super().__init__()\n",
        "        self.conv1 = nn.Conv2d(3, 6, 5)\n",
        "        self.pool = nn.MaxPool2d(2, 2)\n",
        "        self.conv2 = nn.Conv2d(6, 16, 5)\n",
        "        self.fc1 = nn.Linear(16 * 5 * 5, 120)\n",
        "        self.fc2 = nn.Linear(120, 84)\n",
        "        self.fc3 = nn.Linear(84, 10)\n",
        "\n",
        "    def forward(self, x):\n",
        "        x = self.pool(F.relu(self.conv1(x)))\n",
        "        x = self.pool(F.relu(self.conv2(x)))\n",
        "        x = torch.flatten(x, 1) # flatten all dimensions except batch\n",
        "        x = F.relu(self.fc1(x))\n",
        "        x = F.relu(self.fc2(x))\n",
        "        x = self.fc3(x)\n",
        "        return x\n",
        "net = Net()"
      ],
      "metadata": {
        "id": "yInB4eeN7Vfw"
      },
      "execution_count": 106,
      "outputs": []
    },
    {
      "cell_type": "code",
      "source": [
        "#evaluation\n",
        "criterion = nn.CrossEntropyLoss()\n",
        "optimizer = optim.SGD(net.parameters(), lr=0.01, momentum=0.9)"
      ],
      "metadata": {
        "id": "ihB0M6aLA3Xe"
      },
      "execution_count": 110,
      "outputs": []
    },
    {
      "cell_type": "code",
      "source": [
        "#train model\n",
        "for epoch in range(50):  # loop over the dataset multiple times\n",
        "\n",
        "    running_loss = 0.0\n",
        "#[[X_train_1, y_train_1]...[[X_train_{}, y_train_{}]]\n",
        "    for i, data in enumerate(trainloader, 0):\n",
        "        # get the inputs; data is a list of [inputs, labels]\n",
        "        data = torch.tensor(data)\n",
        "        inputs, labels = data\n",
        "\n",
        "        # zero the parameter gradients\n",
        "        optimizer.zero_grad()\n",
        "\n",
        "        # forward + backward + optimize\n",
        "        outputs = net(inputs)\n",
        "        loss = criterion(outputs, labels)\n",
        "        loss.backward()\n",
        "        optimizer.step()\n",
        "\n",
        "        # print statistics\n",
        "        running_loss += loss.item()\n",
        "        if i % 2000 == 1999:    # print every 2000 mini-batches\n",
        "            print(f'[{epoch + 1}, {i + 1:5d}] loss: {running_loss / 2000:.3f}')\n",
        "            running_loss = 0.0\n",
        "\n",
        "print('Finished Training')"
      ],
      "metadata": {
        "colab": {
          "base_uri": "https://localhost:8080/",
          "height": 240
        },
        "id": "CFRenWDABASC",
        "outputId": "a37d7b30-c37f-4fc4-9cc6-416cdf8a4a85"
      },
      "execution_count": 111,
      "outputs": [
        {
          "output_type": "error",
          "ename": "ValueError",
          "evalue": "ignored",
          "traceback": [
            "\u001b[0;31m---------------------------------------------------------------------------\u001b[0m",
            "\u001b[0;31mValueError\u001b[0m                                Traceback (most recent call last)",
            "\u001b[0;32m<ipython-input-111-f615d917cc9a>\u001b[0m in \u001b[0;36m<module>\u001b[0;34m()\u001b[0m\n\u001b[1;32m      7\u001b[0m         \u001b[0;31m# get the inputs; data is a list of [inputs, labels]\u001b[0m\u001b[0;34m\u001b[0m\u001b[0;34m\u001b[0m\u001b[0;34m\u001b[0m\u001b[0m\n\u001b[1;32m      8\u001b[0m         \u001b[0mdata\u001b[0m \u001b[0;34m=\u001b[0m \u001b[0mtorch\u001b[0m\u001b[0;34m.\u001b[0m\u001b[0mtensor\u001b[0m\u001b[0;34m(\u001b[0m\u001b[0mdata\u001b[0m\u001b[0;34m)\u001b[0m\u001b[0;34m\u001b[0m\u001b[0;34m\u001b[0m\u001b[0m\n\u001b[0;32m----> 9\u001b[0;31m         \u001b[0minputs\u001b[0m\u001b[0;34m,\u001b[0m \u001b[0mlabels\u001b[0m \u001b[0;34m=\u001b[0m \u001b[0mdata\u001b[0m\u001b[0;34m\u001b[0m\u001b[0;34m\u001b[0m\u001b[0m\n\u001b[0m\u001b[1;32m     10\u001b[0m \u001b[0;34m\u001b[0m\u001b[0m\n\u001b[1;32m     11\u001b[0m         \u001b[0;31m# zero the parameter gradients\u001b[0m\u001b[0;34m\u001b[0m\u001b[0;34m\u001b[0m\u001b[0;34m\u001b[0m\u001b[0m\n",
            "\u001b[0;31mValueError\u001b[0m: too many values to unpack (expected 2)"
          ]
        }
      ]
    }
  ]
}