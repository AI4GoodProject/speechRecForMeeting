{
 "cells": [
  {
   "cell_type": "code",
   "execution_count": 11,
   "metadata": {},
   "outputs": [
    {
     "name": "stderr",
     "output_type": "stream",
     "text": [
      "--2022-06-01 22:04:19--  https://www.ldc.upenn.edu/sites/default/files/sph2pipe_v2.5.tar.gz\n",
      "Resolving www.ldc.upenn.edu (www.ldc.upenn.edu)... 23.185.0.2\n",
      "Connecting to www.ldc.upenn.edu (www.ldc.upenn.edu)|23.185.0.2|:443... connected.\n",
      "HTTP request sent, awaiting response... 200 OK\n",
      "Length: 329832 (322K) [application/gzip]\n",
      "Saving to: 'sph2pipe_v2.5.tar.gz'\n",
      "\n",
      "     0K .......... .......... .......... .......... .......... 15%  928K 0s\n",
      "    50K .......... .......... .......... .......... .......... 31% 6.18M 0s\n",
      "   100K .......... .......... .......... .......... .......... 46% 5.61M 0s\n",
      "   150K .......... .......... .......... .......... .......... 62% 5.11M 0s\n",
      "   200K .......... .......... .......... .......... .......... 77% 6.04M 0s\n",
      "   250K .......... .......... .......... .......... .......... 93% 5.90M 0s\n",
      "   300K .......... .......... ..                              100% 5.61M=0.1s\n",
      "\n",
      "2022-06-01 22:04:20 (3.14 MB/s) - 'sph2pipe_v2.5.tar.gz' saved [329832/329832]\n",
      "\n",
      "x sph2pipe_v2.5\n",
      "x sph2pipe_v2.5/0readme.1st\n",
      "x sph2pipe_v2.5/bitshift.h\n",
      "x sph2pipe_v2.5/file_headers.c\n",
      "x sph2pipe_v2.5/shorten_x.c\n",
      "x sph2pipe_v2.5/sph2pipe.c\n",
      "x sph2pipe_v2.5/sph_convert.h\n",
      "x sph2pipe_v2.5/test\n",
      "x sph2pipe_v2.5/test/123_1pcbe_shn.sph\n",
      "x sph2pipe_v2.5/test/123_1pcle_shn.sph\n",
      "x sph2pipe_v2.5/test/123_1ulaw_shn.sph\n",
      "x sph2pipe_v2.5/test/123_2alaw.sph\n",
      "x sph2pipe_v2.5/test/123_2pcbe_shn.sph\n",
      "x sph2pipe_v2.5/test/123_2pcle_shn.sph\n",
      "x sph2pipe_v2.5/test/123_2ulaw_shn.sph\n",
      "x sph2pipe_v2.5/test/big1.hdr\n",
      "x sph2pipe_v2.5/test/big2.hdr\n",
      "x sph2pipe_v2.5/test/outfile-md5.list.macosx\n",
      "x sph2pipe_v2.5/test/std1.hdr\n",
      "x sph2pipe_v2.5/test/std2.hdr\n",
      "x sph2pipe_v2.5/test/test_all.pl\n",
      "x sph2pipe_v2.5/ulaw.h\n",
      "x sph2pipe_v2.5/sph2pipe.exe\n"
     ]
    }
   ],
   "source": [
    "# Get sph2pipe tool and extract it to disk\n",
    "!wget https://www.ldc.upenn.edu/sites/default/files/sph2pipe_v2.5.tar.gz\n",
    "!tar xvzf sph2pipe_v2.5.tar.gz"
   ]
  },
  {
   "cell_type": "code",
   "execution_count": null,
   "metadata": {},
   "outputs": [],
   "source": [
    "!"
   ]
  }
 ],
 "metadata": {
  "interpreter": {
   "hash": "b93d338154c78225a4f97f6fddc133b8ae77568e9668c4fbc00fd954cc2e55f1"
  },
  "kernelspec": {
   "display_name": "Python 3.7.4 ('base')",
   "language": "python",
   "name": "python3"
  },
  "language_info": {
   "codemirror_mode": {
    "name": "ipython",
    "version": 3
   },
   "file_extension": ".py",
   "mimetype": "text/x-python",
   "name": "python",
   "nbconvert_exporter": "python",
   "pygments_lexer": "ipython3",
   "version": "3.7.12"
  },
  "orig_nbformat": 4
 },
 "nbformat": 4,
 "nbformat_minor": 2
}
